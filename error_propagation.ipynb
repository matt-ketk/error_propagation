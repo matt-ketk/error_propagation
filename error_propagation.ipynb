{
 "cells": [
  {
   "cell_type": "code",
   "execution_count": null,
   "id": "8573d953-0653-4ae4-b54a-db715832ef45",
   "metadata": {},
   "outputs": [],
   "source": [
    "import numpy as np\n",
    "from sympy import *"
   ]
  },
  {
   "cell_type": "markdown",
   "id": "50c56535-b2ee-48f4-92e0-f70851809832",
   "metadata": {},
   "source": [
    "# Error Propagation\n",
    "Recall that the formula for error propagation is $$\\Delta f = \\sqrt{\\sum_{i} \\left( \\frac{\\partial f}{\\partial x_i} \\Delta x_i \\right) ^2} $$\n",
    "- $\\Delta f$ is the propagated error of the output variable \n",
    "- $\\Delta x_i$ is the error of an input variable\n",
    "- $f(x_0, x_1,\\ldots,x_i)$ is a function relating the output variable with its input variable(s)"
   ]
  },
  {
   "cell_type": "markdown",
   "id": "7f303b3e-d6b2-4eef-ad95-0444d18f6aeb",
   "metadata": {},
   "source": [
    "# Input Parameters\n",
    "**make sure the no. of symbols equals input_values equals error_values!!**"
   ]
  },
  {
   "cell_type": "code",
   "execution_count": null,
   "id": "6a96b038-c51c-4976-8560-ff38ef2cecdf",
   "metadata": {},
   "outputs": [],
   "source": [
    "x, y, z = symbols('x y z')\n",
    "symbol_array = [x, y, z]\n",
    "input_values = [1.62e-4, 50, 10e+3]\n",
    "error_values = [0, 2.5, 200]\n",
    "\n",
    "formula = x * y * z"
   ]
  },
  {
   "cell_type": "markdown",
   "id": "4e277b0b-2d16-40d9-8967-7eab236addd5",
   "metadata": {},
   "source": [
    "# Output"
   ]
  },
  {
   "cell_type": "code",
   "execution_count": null,
   "id": "0389b939-0427-41fb-8d8e-200c2eb4d3c2",
   "metadata": {},
   "outputs": [],
   "source": [
    "aggregate = 0\n",
    "for i in range(len(input_values)):\n",
    "    percent_error = error_values[i] / input_values[i] * 100\n",
    "    print(f'{str(symbol_array[i])} = {input_values[i]} +/- {error_values[i]}, ({percent_error:.2f}% error)')\n",
    "    component = diff(formula, symbol_array[i])\n",
    "    for j in range(len(symbol_array)):\n",
    "        component = component.subs(symbol_array[j], input_values[j])\n",
    "    component *= error_values[i]\n",
    "    print(N(component))\n",
    "    aggregate += component ** 2\n",
    "    \n",
    "aggregate = np.sqrt(float(aggregate))\n",
    "\n",
    "calculated = formula / 1\n",
    "for i in range(len(symbol_array)):\n",
    "    calculated = calculated.subs(symbol_array[i], input_values[i])\n",
    "calculated = float(N(calculated))\n",
    "\n",
    "percent_error = aggregate / calculated * 100\n",
    "print(f'f = {calculated} +/- {aggregate:.4f}, ({percent_error:.2f}% error)')"
   ]
  }
 ],
 "metadata": {
  "kernelspec": {
   "display_name": "Python 3 (ipykernel)",
   "language": "python",
   "name": "python3"
  },
  "language_info": {
   "codemirror_mode": {
    "name": "ipython",
    "version": 3
   },
   "file_extension": ".py",
   "mimetype": "text/x-python",
   "name": "python",
   "nbconvert_exporter": "python",
   "pygments_lexer": "ipython3",
   "version": "3.9.12"
  }
 },
 "nbformat": 4,
 "nbformat_minor": 5
}
